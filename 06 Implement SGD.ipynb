{
 "cells": [
  {
   "cell_type": "markdown",
   "metadata": {
    "colab": {},
    "colab_type": "code",
    "id": "REYPoTJ1Af7u"
   },
   "source": [
    "<h1>Custom SGD vs Sk-Learn SGD Using boston dataset</h1>"
   ]
  },
  {
   "cell_type": "code",
   "execution_count": 1,
   "metadata": {},
   "outputs": [],
   "source": [
    "import warnings\n",
    "warnings.filterwarnings(\"ignore\")\n",
    "from sklearn.datasets import load_boston\n",
    "from random import seed\n",
    "from random import randrange\n",
    "from csv import reader\n",
    "from math import sqrt\n",
    "import pandas as pd\n",
    "import numpy as np\n",
    "import matplotlib.pyplot as plt\n",
    "from prettytable import PrettyTable\n",
    "from sklearn.metrics import mean_squared_error"
   ]
  },
  {
   "cell_type": "code",
   "execution_count": 2,
   "metadata": {
    "colab": {},
    "colab_type": "code",
    "id": "NTQ2iH-kAwbo"
   },
   "outputs": [
    {
     "name": "stdout",
     "output_type": "stream",
     "text": [
      ".. _boston_dataset:\n",
      "\n",
      "Boston house prices dataset\n",
      "---------------------------\n",
      "\n",
      "**Data Set Characteristics:**  \n",
      "\n",
      "    :Number of Instances: 506 \n",
      "\n",
      "    :Number of Attributes: 13 numeric/categorical predictive. Median Value (attribute 14) is usually the target.\n",
      "\n",
      "    :Attribute Information (in order):\n",
      "        - CRIM     per capita crime rate by town\n",
      "        - ZN       proportion of residential land zoned for lots over 25,000 sq.ft.\n",
      "        - INDUS    proportion of non-retail business acres per town\n",
      "        - CHAS     Charles River dummy variable (= 1 if tract bounds river; 0 otherwise)\n",
      "        - NOX      nitric oxides concentration (parts per 10 million)\n",
      "        - RM       average number of rooms per dwelling\n",
      "        - AGE      proportion of owner-occupied units built prior to 1940\n",
      "        - DIS      weighted distances to five Boston employment centres\n",
      "        - RAD      index of accessibility to radial highways\n",
      "        - TAX      full-value property-tax rate per $10,000\n",
      "        - PTRATIO  pupil-teacher ratio by town\n",
      "        - B        1000(Bk - 0.63)^2 where Bk is the proportion of blacks by town\n",
      "        - LSTAT    % lower status of the population\n",
      "        - MEDV     Median value of owner-occupied homes in $1000's\n",
      "\n",
      "    :Missing Attribute Values: None\n",
      "\n",
      "    :Creator: Harrison, D. and Rubinfeld, D.L.\n",
      "\n",
      "This is a copy of UCI ML housing dataset.\n",
      "https://archive.ics.uci.edu/ml/machine-learning-databases/housing/\n",
      "\n",
      "\n",
      "This dataset was taken from the StatLib library which is maintained at Carnegie Mellon University.\n",
      "\n",
      "The Boston house-price data of Harrison, D. and Rubinfeld, D.L. 'Hedonic\n",
      "prices and the demand for clean air', J. Environ. Economics & Management,\n",
      "vol.5, 81-102, 1978.   Used in Belsley, Kuh & Welsch, 'Regression diagnostics\n",
      "...', Wiley, 1980.   N.B. Various transformations are used in the table on\n",
      "pages 244-261 of the latter.\n",
      "\n",
      "The Boston house-price data has been used in many machine learning papers that address regression\n",
      "problems.   \n",
      "     \n",
      ".. topic:: References\n",
      "\n",
      "   - Belsley, Kuh & Welsch, 'Regression diagnostics: Identifying Influential Data and Sources of Collinearity', Wiley, 1980. 244-261.\n",
      "   - Quinlan,R. (1993). Combining Instance-Based and Model-Based Learning. In Proceedings on the Tenth International Conference of Machine Learning, 236-243, University of Massachusetts, Amherst. Morgan Kaufmann.\n",
      "\n"
     ]
    }
   ],
   "source": [
    "# loading boston datasets\n",
    "from sklearn.datasets import load_boston\n",
    "import pandas as pd\n",
    "boston=load_boston()\n",
    "print(boston.DESCR)"
   ]
  },
  {
   "cell_type": "code",
   "execution_count": 3,
   "metadata": {},
   "outputs": [],
   "source": [
    "boston_df = pd.DataFrame(boston.data, columns=boston.feature_names)\n",
    "boston_df['PRICE'] = boston.target"
   ]
  },
  {
   "cell_type": "code",
   "execution_count": 4,
   "metadata": {},
   "outputs": [],
   "source": [
    "# spliting the data into train and test\n",
    "from sklearn.model_selection import train_test_split\n",
    "X_train_data, X_test_data, y_train_data, y_test_data = train_test_split(boston.data, boston.target, test_size = 0.20, random_state = 5)"
   ]
  },
  {
   "cell_type": "code",
   "execution_count": 5,
   "metadata": {},
   "outputs": [],
   "source": [
    "#Function used to column standardize any given matrix\n",
    "from sklearn.preprocessing import StandardScaler\n",
    "scalar = StandardScaler()\n",
    "X_train_data = scalar.fit_transform(X_train_data)\n",
    "X_test_data = scalar.transform(X_test_data)"
   ]
  },
  {
   "cell_type": "markdown",
   "metadata": {},
   "source": [
    "<h1>Custom SGD</h1>"
   ]
  },
  {
   "cell_type": "code",
   "execution_count": 6,
   "metadata": {},
   "outputs": [],
   "source": [
    "#refered ::::https://github.com/saugatapaul1010/Implement-SGD-from-scratch./blob/master/Implement%20SGD%20for%20Linear%20Regression%20for%20Boston%20Housing%20Dataset.ipynb\n",
    "#computing manual sgd regressor \n",
    "def manual_sgd_regressor(X_train_data, y_train_data, lr_rate, lr_rate_variation, n_iterations, power_t):\n",
    "    w_coeff=np.random.randn(13,1) #Randomly initalizing weights\n",
    "    b_coeff=np.random.randn(1,1)  #Randomly picking up intercept value.\n",
    "    \n",
    "    for each_iterate in range(1,n_iterations+1):\n",
    "        sum_errors = 0 #Sum of squared loss.\n",
    "        N = X_train_data.shape[0] #The variable N in the SGD equation.\n",
    "\n",
    "        for i in range(N):\n",
    "            k = np.random.randint(0,N)  # random batch size for every iteration i.e k batch_size\n",
    "            X_i = X_train_data[k,:].reshape(1,X_train_data.shape[1])\n",
    "            y_i = y_train_data[k].reshape(1,1)\n",
    "\n",
    "            y_pred = np.dot(X_i,w_coeff) + b_coeff \n",
    "            loss = y_pred - y_i                                      \n",
    "            sum_errors += loss**2                                   \n",
    "\n",
    "            w_grad = X_i.T.dot((y_pred - y_i))\n",
    "            b_grad = (y_pred - y_i)\n",
    "\n",
    "            w_coeff = w_coeff -(2/N)*lr_rate*(w_grad)\n",
    "            b_coeff = b_coeff - (2/N)*lr_rate*(b_grad)\n",
    "\n",
    "\n",
    "        if(lr_rate_variation=='invscaling'): #Implementing learning_rate 'invscaling' similar to that present in SGD Regressor.\n",
    "            lr_rate = lr_rate / pow(each_iterate, power_t)\n",
    "        else:\n",
    "            pass\n",
    "\n",
    "    return w_coeff, b_coeff"
   ]
  },
  {
   "cell_type": "code",
   "execution_count": 7,
   "metadata": {},
   "outputs": [],
   "source": [
    "#This function is used to predict the class values given a test data.\n",
    "def predict(X_test_data, w_coeff, b_coeff):\n",
    "    X_test=np.array(X_test_data)\n",
    "    y_pred =[]\n",
    "    for i in range(0,len(X_test_data)):\n",
    "        y=np.asscalar(np.dot(w_coeff,X_test_data[i]) + b_coeff) #Convert an array of size 1 to its scalar equivalent.\n",
    "        y_pred.append(y)\n",
    "    return np.array(y_pred)"
   ]
  },
  {
   "cell_type": "code",
   "execution_count": 8,
   "metadata": {},
   "outputs": [],
   "source": [
    "#This function is used to plot the scatter plot between actual and predicted .\n",
    "def plot_scatter(y_test_data,y_pred):\n",
    "    plt.scatter(y_test_data,y_pred)\n",
    "    plt.title('Scatter plot between Actual and Predicted Y.')\n",
    "    plt.xlabel('Actual Y')\n",
    "    plt.ylabel('Predicted Y')\n",
    "    plt.grid(b=True, linewidth=0.5)\n",
    "    plt.show()\n",
    "\n",
    "    #Computing  the mean squared error between the actual and the predictual values.   \n",
    "    mse=mean_squared_error(y_test_data,y_pred)\n",
    "    print('MSE: ',mse)\n",
    "    return mse"
   ]
  },
  {
   "cell_type": "code",
   "execution_count": 9,
   "metadata": {},
   "outputs": [],
   "source": [
    "#above we declare function's below we calling functions with train data \n",
    "#here we fitting our model with train data with 1000 iterations \n",
    "w_coeff_optimal, b_coeff_optimal = manual_sgd_regressor(X_train_data, y_train_data, lr_rate=0.01, lr_rate_variation='constant', n_iterations=1000, power_t=None)\n"
   ]
  },
  {
   "cell_type": "code",
   "execution_count": 10,
   "metadata": {
    "scrolled": true
   },
   "outputs": [
    {
     "data": {
      "image/png": "[encoded data removed]",
      "text/plain": [
       "<Figure size 432x288 with 1 Axes>"
      ]
     },
     "metadata": {},
     "output_type": "display_data"
    },
    {
     "name": "stdout",
     "output_type": "stream",
     "text": [
      "MSE:  20.749334205773142\n"
     ]
    }
   ],
   "source": [
    "#Predict the class labels of the test set using the optimal values obtained from the previous step.\n",
    "y_pred = predict(X_test_data, w_coeff_optimal.T, b_coeff_optimal)\n",
    "\n",
    "#Draw the scatter plot\n",
    "mse1=plot_scatter(y_test_data,y_pred)"
   ]
  },
  {
   "cell_type": "markdown",
   "metadata": {},
   "source": [
    "<h3>Observation</h3>\n",
    "Almost all the values predicted good most of the values are matching with actual by predicted one's<br>\n",
    "So the optimal line will be like starts in between 0-10 and some points little far away from line >=50 may act as outliers"
   ]
  },
  {
   "cell_type": "code",
   "execution_count": 11,
   "metadata": {},
   "outputs": [],
   "source": [
    "wei=w_coeff_optimal"
   ]
  },
  {
   "cell_type": "markdown",
   "metadata": {},
   "source": [
    "<h1> Implementing SK-Learn SGD </h1>"
   ]
  },
  {
   "cell_type": "code",
   "execution_count": 12,
   "metadata": {
    "colab": {
     "base_uri": "https://localhost:8080/",
     "height": 34
    },
    "colab_type": "code",
    "executionInfo": {
     "elapsed": 879,
     "status": "ok",
     "timestamp": 1545718892607,
     "user": {
      "displayName": "Applied AI Course",
      "photoUrl": "https://lh5.googleusercontent.com/-9_3A9F-kDXs/AAAAAAAAAAI/AAAAAAAAACw/IprjYvUuoXQ/s64/photo.jpg",
      "userId": "00484516897554883881"
     },
     "user_tz": -330
    },
    "id": "HNu1sXtEBBS2",
    "outputId": "a0c5d3d0-345c-4a34-8ccf-0d9f3d7d23fd"
   },
   "outputs": [
    {
     "data": {
      "image/png": "[encoded data removed]",
      "text/plain": [
       "<Figure size 432x288 with 1 Axes>"
      ]
     },
     "metadata": {},
     "output_type": "display_data"
    }
   ],
   "source": [
    "from sklearn.linear_model import SGDRegressor\n",
    "#sklearn sgd for linear regression \n",
    "lr_sgd = SGDRegressor(loss='squared_loss', alpha=0.0001, random_state=0, learning_rate='invscaling', eta0=0.001, power_t=0.25, max_iter=1000)\n",
    "lr_sgd.fit(X_train_data, y_train_data)\n",
    "Y_pred_sgd = lr_sgd.predict(X_test_data)\n",
    "#plotting \n",
    "plt.scatter(y_test_data, Y_pred_sgd)\n",
    "plt.grid(b=True, linewidth=0.3)\n",
    "plt.xlabel(\"Actual_Prices: $Y_i$\")\n",
    "plt.ylabel(\"Predicted prices: $\\hat{Y}_i$\")\n",
    "plt.title(\"Actual_Prices vs Predicted prices: $Y_i$ vs $\\hat{Y}_i$\")\n",
    "plt.show()"
   ]
  },
  {
   "cell_type": "markdown",
   "metadata": {},
   "source": [
    "<h3>Observation</h3>\n",
    "Here also optimal line starts in between 0-10 and points >=50 may act as outliers "
   ]
  },
  {
   "cell_type": "code",
   "execution_count": 13,
   "metadata": {},
   "outputs": [
    {
     "data": {
      "text/plain": [
       "20.666060631866618"
      ]
     },
     "execution_count": 13,
     "metadata": {},
     "output_type": "execute_result"
    }
   ],
   "source": [
    "#Computing MSE for SGD Linear regression \n",
    "sk_mse =mean_squared_error(y_test_data,Y_pred_sgd)\n",
    "sk_mse"
   ]
  },
  {
   "cell_type": "code",
   "execution_count": 14,
   "metadata": {},
   "outputs": [],
   "source": [
    "#sk-learn sgd weights\n",
    "weight_sgd=lr_sgd.coef_"
   ]
  },
  {
   "cell_type": "code",
   "execution_count": 15,
   "metadata": {},
   "outputs": [],
   "source": [
    "#applying hstack to both weight's for  better view of results \n",
    "sgd_wei=np.asarray(weight_sgd)\n",
    "wei = np.asarray(wei)"
   ]
  },
  {
   "cell_type": "markdown",
   "metadata": {},
   "source": [
    "<h2>Comparing Custom SGD weights and Sk-learn SGD weights</h2>"
   ]
  },
  {
   "cell_type": "code",
   "execution_count": 16,
   "metadata": {},
   "outputs": [
    {
     "data": {
      "text/html": [
       "<div>\n",
       "<style scoped>\n",
       "    .dataframe tbody tr th:only-of-type {\n",
       "        vertical-align: middle;\n",
       "    }\n",
       "\n",
       "    .dataframe tbody tr th {\n",
       "        vertical-align: top;\n",
       "    }\n",
       "\n",
       "    .dataframe thead th {\n",
       "        text-align: right;\n",
       "    }\n",
       "</style>\n",
       "<table border=\"1\" class=\"dataframe\">\n",
       "  <thead>\n",
       "    <tr style=\"text-align: right;\">\n",
       "      <th></th>\n",
       "      <th>sklearn_sgd_weights</th>\n",
       "      <th>manual_sgd_weights</th>\n",
       "    </tr>\n",
       "  </thead>\n",
       "  <tbody>\n",
       "    <tr>\n",
       "      <th>0</th>\n",
       "      <td>-1.087573</td>\n",
       "      <td>-1.091179</td>\n",
       "    </tr>\n",
       "    <tr>\n",
       "      <th>1</th>\n",
       "      <td>1.057798</td>\n",
       "      <td>1.033346</td>\n",
       "    </tr>\n",
       "    <tr>\n",
       "      <th>2</th>\n",
       "      <td>-0.246502</td>\n",
       "      <td>-0.352066</td>\n",
       "    </tr>\n",
       "    <tr>\n",
       "      <th>3</th>\n",
       "      <td>0.724791</td>\n",
       "      <td>0.768723</td>\n",
       "    </tr>\n",
       "    <tr>\n",
       "      <th>4</th>\n",
       "      <td>-1.735503</td>\n",
       "      <td>-1.704433</td>\n",
       "    </tr>\n",
       "    <tr>\n",
       "      <th>5</th>\n",
       "      <td>2.416593</td>\n",
       "      <td>2.437497</td>\n",
       "    </tr>\n",
       "    <tr>\n",
       "      <th>6</th>\n",
       "      <td>-0.008287</td>\n",
       "      <td>-0.042099</td>\n",
       "    </tr>\n",
       "    <tr>\n",
       "      <th>7</th>\n",
       "      <td>-3.035109</td>\n",
       "      <td>-3.050201</td>\n",
       "    </tr>\n",
       "    <tr>\n",
       "      <th>8</th>\n",
       "      <td>2.466201</td>\n",
       "      <td>2.227559</td>\n",
       "    </tr>\n",
       "    <tr>\n",
       "      <th>9</th>\n",
       "      <td>-1.442188</td>\n",
       "      <td>-1.203465</td>\n",
       "    </tr>\n",
       "    <tr>\n",
       "      <th>10</th>\n",
       "      <td>-2.050813</td>\n",
       "      <td>-2.033712</td>\n",
       "    </tr>\n",
       "    <tr>\n",
       "      <th>11</th>\n",
       "      <td>1.039966</td>\n",
       "      <td>1.055046</td>\n",
       "    </tr>\n",
       "    <tr>\n",
       "      <th>12</th>\n",
       "      <td>-4.149943</td>\n",
       "      <td>-4.130119</td>\n",
       "    </tr>\n",
       "  </tbody>\n",
       "</table>\n",
       "</div>"
      ],
      "text/plain": [
       "    sklearn_sgd_weights  manual_sgd_weights\n",
       "0             -1.087573           -1.091179\n",
       "1              1.057798            1.033346\n",
       "2             -0.246502           -0.352066\n",
       "3              0.724791            0.768723\n",
       "4             -1.735503           -1.704433\n",
       "5              2.416593            2.437497\n",
       "6             -0.008287           -0.042099\n",
       "7             -3.035109           -3.050201\n",
       "8              2.466201            2.227559\n",
       "9             -1.442188           -1.203465\n",
       "10            -2.050813           -2.033712\n",
       "11             1.039966            1.055046\n",
       "12            -4.149943           -4.130119"
      ]
     },
     "execution_count": 16,
     "metadata": {},
     "output_type": "execute_result"
    }
   ],
   "source": [
    "a=np.hstack(sgd_wei)\n",
    "b=np.hstack(wei)\n",
    "df=pd.DataFrame()\n",
    "df['sklearn_sgd_weights']=a\n",
    "df['manual_sgd_weights']=b\n",
    "df"
   ]
  },
  {
   "cell_type": "markdown",
   "metadata": {},
   "source": [
    "<h2>Comparing  Custom SGD MSE  and Sk-Learn SGD MSE </h2>"
   ]
  },
  {
   "cell_type": "code",
   "execution_count": 17,
   "metadata": {},
   "outputs": [
    {
     "name": "stdout",
     "output_type": "stream",
     "text": [
      "MSE of  Custom SGD\t: 20.749334205773142\n",
      "MSE of SK Learn SGD\t: 20.666060631866618\n"
     ]
    }
   ],
   "source": [
    "print(\"MSE of  Custom SGD\\t:\",mse1)\n",
    "print(\"MSE of SK Learn SGD\\t:\",sk_mse)"
   ]
  },
  {
   "cell_type": "markdown",
   "metadata": {},
   "source": [
    "<h2>LInear regression</h2>"
   ]
  },
  {
   "cell_type": "code",
   "execution_count": 18,
   "metadata": {},
   "outputs": [
    {
     "data": {
      "image/png": "[encoded data removed]",
      "text/plain": [
       "<Figure size 432x288 with 1 Axes>"
      ]
     },
     "metadata": {},
     "output_type": "display_data"
    }
   ],
   "source": [
    "#applying sk-learn linear regression \n",
    "from sklearn.linear_model import LinearRegression\n",
    "\n",
    "lm = LinearRegression()\n",
    "lm.fit(X_train_data, y_train_data)\n",
    "\n",
    "Y_pred_lm = lm.predict(X_test_data)\n",
    "#plotting \n",
    "plt.scatter(y_test_data , Y_pred_lm)\n",
    "plt.xlabel(\"Prices: $Y_i$\")\n",
    "plt.ylabel(\"Predicted prices: $\\hat{Y}_i$\")\n",
    "plt.title(\"Prices vs Predicted prices: $Y_i$ vs $\\hat{Y}_i$\")\n",
    "plt.show()"
   ]
  },
  {
   "cell_type": "code",
   "execution_count": 19,
   "metadata": {},
   "outputs": [
    {
     "name": "stdout",
     "output_type": "stream",
     "text": [
      "MSE of  Linear regression\t: 20.869292183770813\n"
     ]
    }
   ],
   "source": [
    "#mse of linear regression \n",
    "lr_mse =mean_squared_error(y_test_data ,Y_pred_lm)\n",
    "print(\"MSE of  Linear regression\\t:\",lr_mse)\n"
   ]
  },
  {
   "cell_type": "code",
   "execution_count": 20,
   "metadata": {},
   "outputs": [
    {
     "data": {
      "text/plain": [
       "array([-1.13502719,  1.15814527,  0.00737057,  0.68709635, -1.82837001,\n",
       "        2.36271879,  0.03166538, -3.06632775,  3.16621482, -2.21457852,\n",
       "       -2.08600876,  1.0449511 , -4.17627077])"
      ]
     },
     "execution_count": 20,
     "metadata": {},
     "output_type": "execute_result"
    }
   ],
   "source": [
    "#sk-learn linear regression  weights\n",
    "weight_lm=lm.coef_\n",
    "e=np.hstack(weight_lm)\n",
    "e"
   ]
  },
  {
   "cell_type": "code",
   "execution_count": 21,
   "metadata": {},
   "outputs": [
    {
     "name": "stdout",
     "output_type": "stream",
     "text": [
      "comparing weights for sk-learn sgd, manual sgd, and sk-learn linear regression \n"
     ]
    },
    {
     "data": {
      "text/html": [
       "<div>\n",
       "<style scoped>\n",
       "    .dataframe tbody tr th:only-of-type {\n",
       "        vertical-align: middle;\n",
       "    }\n",
       "\n",
       "    .dataframe tbody tr th {\n",
       "        vertical-align: top;\n",
       "    }\n",
       "\n",
       "    .dataframe thead th {\n",
       "        text-align: right;\n",
       "    }\n",
       "</style>\n",
       "<table border=\"1\" class=\"dataframe\">\n",
       "  <thead>\n",
       "    <tr style=\"text-align: right;\">\n",
       "      <th></th>\n",
       "      <th>sklearn_sgd_weights</th>\n",
       "      <th>manual_sgd_weights</th>\n",
       "      <th>sk_learn_linear_reg</th>\n",
       "    </tr>\n",
       "  </thead>\n",
       "  <tbody>\n",
       "    <tr>\n",
       "      <th>0</th>\n",
       "      <td>-1.087573</td>\n",
       "      <td>-1.091179</td>\n",
       "      <td>-1.135027</td>\n",
       "    </tr>\n",
       "    <tr>\n",
       "      <th>1</th>\n",
       "      <td>1.057798</td>\n",
       "      <td>1.033346</td>\n",
       "      <td>1.158145</td>\n",
       "    </tr>\n",
       "    <tr>\n",
       "      <th>2</th>\n",
       "      <td>-0.246502</td>\n",
       "      <td>-0.352066</td>\n",
       "      <td>0.007371</td>\n",
       "    </tr>\n",
       "    <tr>\n",
       "      <th>3</th>\n",
       "      <td>0.724791</td>\n",
       "      <td>0.768723</td>\n",
       "      <td>0.687096</td>\n",
       "    </tr>\n",
       "    <tr>\n",
       "      <th>4</th>\n",
       "      <td>-1.735503</td>\n",
       "      <td>-1.704433</td>\n",
       "      <td>-1.828370</td>\n",
       "    </tr>\n",
       "    <tr>\n",
       "      <th>5</th>\n",
       "      <td>2.416593</td>\n",
       "      <td>2.437497</td>\n",
       "      <td>2.362719</td>\n",
       "    </tr>\n",
       "    <tr>\n",
       "      <th>6</th>\n",
       "      <td>-0.008287</td>\n",
       "      <td>-0.042099</td>\n",
       "      <td>0.031665</td>\n",
       "    </tr>\n",
       "    <tr>\n",
       "      <th>7</th>\n",
       "      <td>-3.035109</td>\n",
       "      <td>-3.050201</td>\n",
       "      <td>-3.066328</td>\n",
       "    </tr>\n",
       "    <tr>\n",
       "      <th>8</th>\n",
       "      <td>2.466201</td>\n",
       "      <td>2.227559</td>\n",
       "      <td>3.166215</td>\n",
       "    </tr>\n",
       "    <tr>\n",
       "      <th>9</th>\n",
       "      <td>-1.442188</td>\n",
       "      <td>-1.203465</td>\n",
       "      <td>-2.214579</td>\n",
       "    </tr>\n",
       "    <tr>\n",
       "      <th>10</th>\n",
       "      <td>-2.050813</td>\n",
       "      <td>-2.033712</td>\n",
       "      <td>-2.086009</td>\n",
       "    </tr>\n",
       "    <tr>\n",
       "      <th>11</th>\n",
       "      <td>1.039966</td>\n",
       "      <td>1.055046</td>\n",
       "      <td>1.044951</td>\n",
       "    </tr>\n",
       "    <tr>\n",
       "      <th>12</th>\n",
       "      <td>-4.149943</td>\n",
       "      <td>-4.130119</td>\n",
       "      <td>-4.176271</td>\n",
       "    </tr>\n",
       "  </tbody>\n",
       "</table>\n",
       "</div>"
      ],
      "text/plain": [
       "    sklearn_sgd_weights  manual_sgd_weights  sk_learn_linear_reg\n",
       "0             -1.087573           -1.091179            -1.135027\n",
       "1              1.057798            1.033346             1.158145\n",
       "2             -0.246502           -0.352066             0.007371\n",
       "3              0.724791            0.768723             0.687096\n",
       "4             -1.735503           -1.704433            -1.828370\n",
       "5              2.416593            2.437497             2.362719\n",
       "6             -0.008287           -0.042099             0.031665\n",
       "7             -3.035109           -3.050201            -3.066328\n",
       "8              2.466201            2.227559             3.166215\n",
       "9             -1.442188           -1.203465            -2.214579\n",
       "10            -2.050813           -2.033712            -2.086009\n",
       "11             1.039966            1.055046             1.044951\n",
       "12            -4.149943           -4.130119            -4.176271"
      ]
     },
     "execution_count": 21,
     "metadata": {},
     "output_type": "execute_result"
    }
   ],
   "source": [
    "df['sk_learn_linear_reg']=e\n",
    "print(\"comparing weights for sk-learn sgd, manual sgd, and sk-learn linear regression \")\n",
    "df"
   ]
  },
  {
   "cell_type": "markdown",
   "metadata": {},
   "source": [
    "<h2>comparing mse's for manual ,sklearn sgd's and sklearn linear regression </h2>"
   ]
  },
  {
   "cell_type": "code",
   "execution_count": 22,
   "metadata": {},
   "outputs": [
    {
     "name": "stdout",
     "output_type": "stream",
     "text": [
      "MSE of  Custom SGD\t\t: 20.749334205773142\n",
      "MSE of SK Learn SGD\t\t: 20.666060631866618\n",
      "MSE of  Linear regression\t: 20.869292183770813\n"
     ]
    }
   ],
   "source": [
    "#comparing mse's for manual ,sklearn sgd's and sklearn linear regression \n",
    "print(\"MSE of  Custom SGD\\t\\t:\",mse1)\n",
    "print(\"MSE of SK Learn SGD\\t\\t:\",sk_mse)\n",
    "print(\"MSE of  Linear regression\\t:\",lr_mse)\n"
   ]
  },
  {
   "cell_type": "markdown",
   "metadata": {},
   "source": [
    "<h2>Obervations</h2>"
   ]
  },
  {
   "cell_type": "markdown",
   "metadata": {},
   "source": [
    "1.Above implemented Custom SGD for linear regression with learning rate 0.01 and 1000 iteratons<br>\n",
    "2.If iterations increases MSE will decreases  or constant is observed <br>\n",
    "3.By comparing weights and MSE of both Custom and Sklearn SGD gives almost same results when high iteration <br>\n",
    "4.Weights are changing for every run time cells because of we took random k points from the training data ,So MSE will vary at multiple executions <br>\n",
    "5.Sk-learn SGD with good code complex and all these caluclations done internally in sk-learn SGD how ever results are almost same compare to custom SGD <br>\n",
    "6.How ever we caluclated sk-learn linear regression and compare with both custom sgd and sk-learn sgd <br>\n",
    "7.Linear regression from sk-learn also gives almost similar weights and similar for Linear Regreesion sk-learn  MSE(20) and  sk-learn sgd MSE(20) and custom sgd MSE(20) <br>\n",
    "8.We get 20 as mse values for manual sgd and sk-learn's sgd and linear regression MSE at 20 is good <br>\n",
    "9.So final statement is there no much difference in weights and MSE in   manual SGD and sk-learn SGD and sk-learn linear regression  are giving similar results"
   ]
  }
 ],
 "metadata": {
  "colab": {
   "name": "Untitled3.ipynb",
   "provenance": [],
   "version": "0.3.2"
  },
  "kernelspec": {
   "display_name": "Python 3",
   "language": "python",
   "name": "python3"
  },
  "language_info": {
   "codemirror_mode": {
    "name": "ipython",
    "version": 3
   },
   "file_extension": ".py",
   "mimetype": "text/x-python",
   "name": "python",
   "nbconvert_exporter": "python",
   "pygments_lexer": "ipython3",
   "version": "3.6.5"
  }
 },
 "nbformat": 4,
 "nbformat_minor": 1
}
